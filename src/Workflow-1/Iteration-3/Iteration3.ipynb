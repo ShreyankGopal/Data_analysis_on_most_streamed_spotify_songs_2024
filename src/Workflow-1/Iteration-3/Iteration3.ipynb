{
  "nbformat": 4,
  "nbformat_minor": 0,
  "metadata": {
    "colab": {
      "provenance": []
    },
    "kernelspec": {
      "name": "python3",
      "display_name": "Python 3"
    },
    "language_info": {
      "name": "python"
    }
  },
  "cells": [
    {
      "cell_type": "code",
      "execution_count": 2,
      "metadata": {
        "id": "ZdZ1UR6V77T4"
      },
      "outputs": [],
      "source": [
        "#identifying artists with different streams distribution"
      ]
    },
    {
      "cell_type": "code",
      "source": [
        "import pandas as pd"
      ],
      "metadata": {
        "id": "QEvyCqLOA1BV"
      },
      "execution_count": 17,
      "outputs": []
    },
    {
      "cell_type": "code",
      "source": [
        "df = pd.read_csv(\"/content/drive/MyDrive/DV_A3/Final Datasets/merged.csv\")\n",
        "df['Total Spotify Streams'] = df.groupby('Artist')['Spotify Streams'].transform('sum')\n",
        "df['Total YouTube Views'] = df.groupby('Artist')['YouTube Views'].transform('sum')\n",
        "df['Total TikTok Views'] = df.groupby('Artist')['TikTok Views'].transform('sum')\n",
        "print(df)"
      ],
      "metadata": {
        "colab": {
          "base_uri": "https://localhost:8080/"
        },
        "collapsed": true,
        "id": "sj8SvHZnAirS",
        "outputId": "0330d401-6b39-4c92-84d5-3d8db1dd0377"
      },
      "execution_count": 18,
      "outputs": [
        {
          "output_type": "stream",
          "name": "stdout",
          "text": [
            "                   track_id               Artist  \\\n",
            "0    0IGUXY4JbK18bu9oD4mPIm             (G)I-DLE   \n",
            "1    6Pgmqg15yVexuOgtzuxwoX             347aidan   \n",
            "2    27XMmSWSOXJ7eVb40tH93T             347aidan   \n",
            "3    2iUXsYOEPhVqEBwsqP70rE  5 Seconds of Summer   \n",
            "4    26wLOs3ZuHJa2Ihhx6QIE6  5 Seconds of Summer   \n",
            "..                      ...                  ...   \n",
            "626  6qUabsNxudatEFedWGHoDh         Travis Scott   \n",
            "627  7t2bFihaDvhIrd2gn2CWJO        Ty Dolla $ign   \n",
            "628  2LskIZrCeLxRvCiGP8gxlh         XXXTENTACION   \n",
            "629  39QJ7KkN3L8LLqQqsO85W1    Yo Yo Honey Singh   \n",
            "630  1IIKrJVP1C9N7iPtG6eOsK           Young Thug   \n",
            "\n",
            "                                            album_name  \\\n",
            "0                                          I NEVER DIE   \n",
            "1                                   Dancing in My Room   \n",
            "2                                   TROUBLED MEMORIES!   \n",
            "3                                  Youngblood (Deluxe)   \n",
            "4                            13 Reasons Why (Season 3)   \n",
            "..                                                 ...   \n",
            "626  FRANCHISE (feat. Future, Young Thug & M.I.A.) ...   \n",
            "627  Or Nah (feat. The Weeknd, Wiz Khalifa & DJ Mus...   \n",
            "628          Arms Around You (feat. Maluma & Swae Lee)   \n",
            "629                                         Saiyaan Ji   \n",
            "630                                          Slime & B   \n",
            "\n",
            "                                                 Track  popularity  \\\n",
            "0                                               TOMBOY          80   \n",
            "1                                   Dancing in My Room          74   \n",
            "2                                            MEMORIES!          76   \n",
            "3                                           Youngblood          81   \n",
            "4                                                Teeth          79   \n",
            "..                                                 ...         ...   \n",
            "626              FRANCHISE (feat. Young Thug & M.I.A.)          65   \n",
            "627  Or Nah (feat. The Weeknd, Wiz Khalifa and DJ M...          79   \n",
            "628          Arms Around You (feat. Maluma & Swae Lee)          70   \n",
            "629                                         Saiyaan Ji          57   \n",
            "630                                           Go Crazy          78   \n",
            "\n",
            "     duration_ms  explicit  danceability  energy  key  ...  \\\n",
            "0         174386     False         0.755   0.870    1  ...   \n",
            "1         180138      True         0.980   0.413    8  ...   \n",
            "2         137806     False         0.835   0.381    9  ...   \n",
            "3         203417     False         0.596   0.854    7  ...   \n",
            "4         204887     False         0.756   0.448    3  ...   \n",
            "..           ...       ...           ...     ...  ...  ...   \n",
            "626       207394      True         0.859   0.770    8  ...   \n",
            "627       242983      True         0.805   0.330    1  ...   \n",
            "628       198902      True         0.703   0.723    9  ...   \n",
            "629       205450     False         0.896   0.678    0  ...   \n",
            "630       176960      True         0.755   0.578    0  ...   \n",
            "\n",
            "     Deezer Playlist Reach  Amazon Playlist Count  Pandora Streams  \\\n",
            "0                  43550.0                   30.0         645800.0   \n",
            "1                  18086.0                    NaN        7989935.0   \n",
            "2                   4650.0                    NaN        2228794.0   \n",
            "3                 444155.0                   64.0      394705510.0   \n",
            "4                 551258.0                   19.0       56491309.0   \n",
            "..                     ...                    ...              ...   \n",
            "626                21659.0                   12.0       12891509.0   \n",
            "627                 4123.0                    8.0      568114702.0   \n",
            "628                13467.0                    6.0       38836032.0   \n",
            "629                    NaN                    3.0              NaN   \n",
            "630               935466.0                   22.0      242208093.0   \n",
            "\n",
            "     Pandora Track Stations  Soundcloud Streams  Shazam Counts  \\\n",
            "0                    1252.0                 NaN       559921.0   \n",
            "1                   19258.0                 NaN      1709213.0   \n",
            "2                    4470.0                 NaN      1627617.0   \n",
            "3                  159091.0                 NaN     10854729.0   \n",
            "4                   60938.0           6558783.0      3637003.0   \n",
            "..                      ...                 ...            ...   \n",
            "626                  5890.0                 NaN      1765806.0   \n",
            "627                286287.0                 NaN      2633407.0   \n",
            "628                 28986.0          51950035.0      3904200.0   \n",
            "629                     NaN                 NaN       197659.0   \n",
            "630                 80706.0           2515804.0      5747453.0   \n",
            "\n",
            "     Explicit Track  Total Spotify Streams  Total YouTube Views  \\\n",
            "0                 0              286016224         4.962706e+08   \n",
            "1                 1              561150558         1.485068e+08   \n",
            "2                 0              561150558         1.485068e+08   \n",
            "3                 0             2473827028         1.115336e+09   \n",
            "4                 0             2473827028         1.115336e+09   \n",
            "..              ...                    ...                  ...   \n",
            "626               1             6014021979         2.566308e+09   \n",
            "627               1              949312501         8.582854e+08   \n",
            "628               1            25200811484         1.268511e+10   \n",
            "629               0               39793463         5.853539e+08   \n",
            "630               1              699336080         3.633332e+08   \n",
            "\n",
            "    Total TikTok Views  \n",
            "0         2.328609e+08  \n",
            "1         3.855200e+09  \n",
            "2         3.855200e+09  \n",
            "3         6.422142e+08  \n",
            "4         6.422142e+08  \n",
            "..                 ...  \n",
            "626       1.067104e+09  \n",
            "627       7.060025e+07  \n",
            "628       1.440294e+10  \n",
            "629       0.000000e+00  \n",
            "630       4.269253e+07  \n",
            "\n",
            "[631 rows x 48 columns]\n"
          ]
        }
      ]
    },
    {
      "cell_type": "code",
      "source": [
        "df['Performs well on Spotify'] = 0\n",
        "df['Performs well on TikTok'] = 0\n",
        "df['Performs well on YouTube'] = 0\n",
        "\n",
        "\n",
        "# Iterate through each row to apply the conditions\n",
        "for idx, row in df.iterrows():\n",
        "    total_views = row['Spotify Streams'] + row['TikTok Views'] + row['YouTube Views']\n",
        "\n",
        "    # Calculate percentages\n",
        "    spotify_percentage = (row['Spotify Streams'] / total_views) * 100 if total_views > 0 else 0\n",
        "    tiktok_percentage = (row['TikTok Views'] / total_views) * 100 if total_views > 0 else 0\n",
        "    youtube_percentage = (row['YouTube Views'] / total_views) * 100 if total_views > 0 else 0\n",
        "\n",
        "    # Apply the conditions\n",
        "    if spotify_percentage >= 55:\n",
        "        df.at[idx, 'Performs well on Spotify'] = 1\n",
        "    elif tiktok_percentage >= 55:\n",
        "        df.at[idx, 'Performs well on TikTok'] = 1\n",
        "    elif youtube_percentage >= 55:\n",
        "        df.at[idx, 'Performs well on YouTube'] = 1\n",
        "    elif (spotify_percentage + tiktok_percentage >= 75):\n",
        "        df.at[idx, 'Performs well on Spotify'] = 1\n",
        "        df.at[idx, 'Performs well on TikTok'] = 1\n",
        "    elif (spotify_percentage + youtube_percentage >= 75):\n",
        "        df.at[idx, 'Performs well on Spotify'] = 1\n",
        "        df.at[idx, 'Performs well on YouTube'] = 1\n",
        "    elif (tiktok_percentage + youtube_percentage >= 75):\n",
        "        df.at[idx, 'Performs well on TikTok'] = 1\n",
        "        df.at[idx, 'Performs well on YouTube'] = 1\n",
        "    elif spotify_percentage >= 22 and tiktok_percentage >= 22 and youtube_percentage >= 22:\n",
        "        df.at[idx, 'Performs well on Spotify'] = 1\n",
        "        df.at[idx, 'Performs well on TikTok'] = 1\n",
        "        df.at[idx, 'Performs well on YouTube'] = 1\n"
      ],
      "metadata": {
        "id": "cqzidnbUYByt"
      },
      "execution_count": 19,
      "outputs": []
    },
    {
      "cell_type": "code",
      "source": [
        "print(df)"
      ],
      "metadata": {
        "colab": {
          "base_uri": "https://localhost:8080/"
        },
        "id": "07frW2QiZnBq",
        "outputId": "40c30f01-c83e-41da-86d4-0283a11fde30"
      },
      "execution_count": 6,
      "outputs": [
        {
          "output_type": "stream",
          "name": "stdout",
          "text": [
            "                   track_id               Artist  \\\n",
            "0    0IGUXY4JbK18bu9oD4mPIm             (G)I-DLE   \n",
            "1    6Pgmqg15yVexuOgtzuxwoX             347aidan   \n",
            "2    27XMmSWSOXJ7eVb40tH93T             347aidan   \n",
            "3    2iUXsYOEPhVqEBwsqP70rE  5 Seconds of Summer   \n",
            "4    26wLOs3ZuHJa2Ihhx6QIE6  5 Seconds of Summer   \n",
            "..                      ...                  ...   \n",
            "626  6qUabsNxudatEFedWGHoDh         Travis Scott   \n",
            "627  7t2bFihaDvhIrd2gn2CWJO        Ty Dolla $ign   \n",
            "628  2LskIZrCeLxRvCiGP8gxlh         XXXTENTACION   \n",
            "629  39QJ7KkN3L8LLqQqsO85W1    Yo Yo Honey Singh   \n",
            "630  1IIKrJVP1C9N7iPtG6eOsK           Young Thug   \n",
            "\n",
            "                                            album_name  \\\n",
            "0                                          I NEVER DIE   \n",
            "1                                   Dancing in My Room   \n",
            "2                                   TROUBLED MEMORIES!   \n",
            "3                                  Youngblood (Deluxe)   \n",
            "4                            13 Reasons Why (Season 3)   \n",
            "..                                                 ...   \n",
            "626  FRANCHISE (feat. Future, Young Thug & M.I.A.) ...   \n",
            "627  Or Nah (feat. The Weeknd, Wiz Khalifa & DJ Mus...   \n",
            "628          Arms Around You (feat. Maluma & Swae Lee)   \n",
            "629                                         Saiyaan Ji   \n",
            "630                                          Slime & B   \n",
            "\n",
            "                                                 Track  popularity  \\\n",
            "0                                               TOMBOY          80   \n",
            "1                                   Dancing in My Room          74   \n",
            "2                                            MEMORIES!          76   \n",
            "3                                           Youngblood          81   \n",
            "4                                                Teeth          79   \n",
            "..                                                 ...         ...   \n",
            "626              FRANCHISE (feat. Young Thug & M.I.A.)          65   \n",
            "627  Or Nah (feat. The Weeknd, Wiz Khalifa and DJ M...          79   \n",
            "628          Arms Around You (feat. Maluma & Swae Lee)          70   \n",
            "629                                         Saiyaan Ji          57   \n",
            "630                                           Go Crazy          78   \n",
            "\n",
            "     duration_ms  explicit  danceability  energy  key  ...  \\\n",
            "0         174386     False         0.755   0.870    1  ...   \n",
            "1         180138      True         0.980   0.413    8  ...   \n",
            "2         137806     False         0.835   0.381    9  ...   \n",
            "3         203417     False         0.596   0.854    7  ...   \n",
            "4         204887     False         0.756   0.448    3  ...   \n",
            "..           ...       ...           ...     ...  ...  ...   \n",
            "626       207394      True         0.859   0.770    8  ...   \n",
            "627       242983      True         0.805   0.330    1  ...   \n",
            "628       198902      True         0.703   0.723    9  ...   \n",
            "629       205450     False         0.896   0.678    0  ...   \n",
            "630       176960      True         0.755   0.578    0  ...   \n",
            "\n",
            "     Pandora Track Stations  Soundcloud Streams  Shazam Counts  \\\n",
            "0                    1252.0                 NaN       559921.0   \n",
            "1                   19258.0                 NaN      1709213.0   \n",
            "2                    4470.0                 NaN      1627617.0   \n",
            "3                  159091.0                 NaN     10854729.0   \n",
            "4                   60938.0           6558783.0      3637003.0   \n",
            "..                      ...                 ...            ...   \n",
            "626                  5890.0                 NaN      1765806.0   \n",
            "627                286287.0                 NaN      2633407.0   \n",
            "628                 28986.0          51950035.0      3904200.0   \n",
            "629                     NaN                 NaN       197659.0   \n",
            "630                 80706.0           2515804.0      5747453.0   \n",
            "\n",
            "     Explicit Track  Total Spotify Streams  Total YouTube Views  \\\n",
            "0                 0              286016224         4.962706e+08   \n",
            "1                 1              561150558         1.485068e+08   \n",
            "2                 0              561150558         1.485068e+08   \n",
            "3                 0             2473827028         1.115336e+09   \n",
            "4                 0             2473827028         1.115336e+09   \n",
            "..              ...                    ...                  ...   \n",
            "626               1             6014021979         2.566308e+09   \n",
            "627               1              949312501         8.582854e+08   \n",
            "628               1            25200811484         1.268511e+10   \n",
            "629               0               39793463         5.853539e+08   \n",
            "630               1              699336080         3.633332e+08   \n",
            "\n",
            "     Total TikTok Views  Performs well on Spotify  Performs well on TikTok  \\\n",
            "0          2.328609e+08                         1                        0   \n",
            "1          3.855200e+09                         0                        1   \n",
            "2          3.855200e+09                         0                        1   \n",
            "3          6.422142e+08                         1                        0   \n",
            "4          6.422142e+08                         1                        1   \n",
            "..                  ...                       ...                      ...   \n",
            "626        1.067104e+09                         1                        1   \n",
            "627        7.060025e+07                         1                        0   \n",
            "628        1.440294e+10                         1                        0   \n",
            "629        0.000000e+00                         0                        0   \n",
            "630        4.269253e+07                         1                        0   \n",
            "\n",
            "    Performs well on YouTube  \n",
            "0                          1  \n",
            "1                          0  \n",
            "2                          0  \n",
            "3                          0  \n",
            "4                          0  \n",
            "..                       ...  \n",
            "626                        1  \n",
            "627                        1  \n",
            "628                        1  \n",
            "629                        0  \n",
            "630                        0  \n",
            "\n",
            "[631 rows x 51 columns]\n"
          ]
        }
      ]
    },
    {
      "cell_type": "code",
      "source": [
        "import pandas as pd\n",
        "from sklearn.model_selection import train_test_split\n",
        "from sklearn.ensemble import RandomForestClassifier\n",
        "from sklearn.multioutput import MultiOutputClassifier\n",
        "from sklearn.metrics import classification_report\n",
        "from sklearn.preprocessing import LabelEncoder\n",
        "from sklearn.metrics import accuracy_score\n",
        "\n",
        "\n",
        "le = LabelEncoder()\n",
        "\n",
        "df_encoded = df.copy()\n",
        "\n",
        "df_encoded['release_date'] = pd.to_datetime(df_encoded['Release Date'], format='%Y-%m-%d')\n",
        "df_encoded['release_year'] = df_encoded['release_date'].dt.year\n",
        "df_encoded['track_genre'] = le.fit_transform(df_encoded['track_genre'])\n",
        "\n",
        "\n",
        "df_encoded.to_csv(\"fields.csv\",index=False)\n",
        "\n",
        "features = [\n",
        "    'explicit', 'danceability', 'energy', 'loudness', 'speechiness',\n",
        "    'acousticness', 'instrumentalness', 'tempo', 'time_signature', 'release_year'\n",
        "] + [col for col in df_encoded.columns if 'track_genre' in col]  # Include one-hot encoded track genres\n",
        "\n",
        "X = df_encoded[features]\n",
        "y = df_encoded[['Performs well on Spotify', 'Performs well on TikTok', 'Performs well on YouTube']]\n",
        "\n",
        "X_train, X_test, y_train, y_test = train_test_split(X, y, test_size=0.2, random_state=42)\n",
        "\n",
        "rf = RandomForestClassifier(random_state=42)\n",
        "multi_target_rf = MultiOutputClassifier(rf, n_jobs=-1)\n",
        "\n",
        "multi_target_rf.fit(X_train, y_train)\n",
        "\n",
        "y_pred = multi_target_rf.predict(X_test)\n",
        "\n",
        "print(\"Accuracy for 'Performs well on Spotify':\", accuracy_score(y_test['Performs well on Spotify'], y_pred[:, 0]))\n",
        "print(\"Accuracy for 'Performs well on TikTok':\", accuracy_score(y_test['Performs well on TikTok'], y_pred[:, 1]))\n",
        "print(\"Accuracy for 'Performs well on YouTube':\", accuracy_score(y_test['Performs well on YouTube'], y_pred[:, 2]))\n"
      ],
      "metadata": {
        "colab": {
          "base_uri": "https://localhost:8080/"
        },
        "id": "DZNvYgwhbRnX",
        "outputId": "d9a57411-5e59-4d7a-8df0-1fa22a0f9cd3"
      },
      "execution_count": 20,
      "outputs": [
        {
          "output_type": "stream",
          "name": "stdout",
          "text": [
            "Accuracy for 'Performs well on Spotify': 0.7086614173228346\n",
            "Accuracy for 'Performs well on TikTok': 0.7007874015748031\n",
            "Accuracy for 'Performs well on YouTube': 0.7637795275590551\n"
          ]
        }
      ]
    },
    {
      "cell_type": "code",
      "source": [
        "from sklearn.svm import SVC\n",
        "\n",
        "svm = SVC(kernel='linear', random_state=42)\n",
        "multi_target_svm = MultiOutputClassifier(svm, n_jobs=-1)\n",
        "\n",
        "multi_target_svm.fit(X_train, y_train)\n",
        "y_pred = multi_target_svm.predict(X_test)\n",
        "\n",
        "print(\"Accuracy for 'Performs well on Spotify':\", accuracy_score(y_test['Performs well on Spotify'], y_pred[:, 0]))\n",
        "print(\"Accuracy for 'Performs well on TikTok':\", accuracy_score(y_test['Performs well on TikTok'], y_pred[:, 1]))\n",
        "print(\"Accuracy for 'Performs well on YouTube':\", accuracy_score(y_test['Performs well on YouTube'], y_pred[:, 2]))\n"
      ],
      "metadata": {
        "colab": {
          "base_uri": "https://localhost:8080/"
        },
        "id": "P1rlmAuTlcTj",
        "outputId": "1a6c68e9-6566-44a7-fe1c-dbc6c70951ec"
      },
      "execution_count": 21,
      "outputs": [
        {
          "output_type": "stream",
          "name": "stdout",
          "text": [
            "Accuracy for 'Performs well on Spotify': 0.6220472440944882\n",
            "Accuracy for 'Performs well on TikTok': 0.6377952755905512\n",
            "Accuracy for 'Performs well on YouTube': 0.7007874015748031\n"
          ]
        }
      ]
    },
    {
      "cell_type": "code",
      "source": [
        "from sklearn.linear_model import LogisticRegression\n",
        "\n",
        "log_reg = LogisticRegression(max_iter=1000, random_state=42)\n",
        "multi_target_log_reg = MultiOutputClassifier(log_reg, n_jobs=-1)\n",
        "\n",
        "multi_target_log_reg.fit(X_train, y_train)\n",
        "y_pred = multi_target_log_reg.predict(X_test)\n",
        "\n",
        "print(\"Accuracy for 'Performs well on Spotify':\", accuracy_score(y_test['Performs well on Spotify'], y_pred[:, 0]))\n",
        "print(\"Accuracy for 'Performs well on TikTok':\", accuracy_score(y_test['Performs well on TikTok'], y_pred[:, 1]))\n",
        "print(\"Accuracy for 'Performs well on YouTube':\", accuracy_score(y_test['Performs well on YouTube'], y_pred[:, 2]))\n"
      ],
      "metadata": {
        "colab": {
          "base_uri": "https://localhost:8080/"
        },
        "id": "W6cDywmfxSsE",
        "outputId": "7ddb6070-6dd5-4e66-a9ed-734c7a393de8"
      },
      "execution_count": 22,
      "outputs": [
        {
          "output_type": "stream",
          "name": "stdout",
          "text": [
            "Accuracy for 'Performs well on Spotify': 0.5511811023622047\n",
            "Accuracy for 'Performs well on TikTok': 0.5748031496062992\n",
            "Accuracy for 'Performs well on YouTube': 0.6614173228346457\n"
          ]
        }
      ]
    },
    {
      "cell_type": "code",
      "source": [
        "from xgboost import XGBClassifier\n",
        "from sklearn.model_selection import GridSearchCV\n",
        "\n",
        "param_grid = {\n",
        "    'estimator__n_estimators': [5, 10, 20],\n",
        "    'estimator__learning_rate': [0.01, 0.1, 0.2],\n",
        "    'estimator__max_depth': [3, 5, 7],\n",
        "    'estimator__subsample': [0.6, 0.8, 1.0],\n",
        "    'estimator__colsample_bytree': [0.6, 0.8, 1.0]\n",
        "}\n",
        "\n",
        "xgb = XGBClassifier(use_label_encoder=False, eval_metric='logloss', random_state=42)\n",
        "multi_target_xgb = MultiOutputClassifier(xgb, n_jobs=-1)\n",
        "\n",
        "grid_search = GridSearchCV(\n",
        "    estimator=multi_target_xgb,\n",
        "    param_grid=param_grid,\n",
        "    scoring='accuracy',\n",
        "    cv=3,\n",
        "    n_jobs=-1,\n",
        "    verbose=1\n",
        ")\n",
        "\n",
        "grid_search.fit(X_train, y_train)\n",
        "\n",
        "print(\"Best Parameters:\", grid_search.best_params_)\n",
        "best_model = grid_search.best_estimator_\n",
        "y_pred = best_model.predict(X_test)\n",
        "\n",
        "print(\"Accuracy for 'Performs well on Spotify':\", accuracy_score(y_test['Performs well on Spotify'], y_pred[:, 0]))\n",
        "print(\"Accuracy for 'Performs well on TikTok':\", accuracy_score(y_test['Performs well on TikTok'], y_pred[:, 1]))\n",
        "print(\"Accuracy for 'Performs well on YouTube':\", accuracy_score(y_test['Performs well on YouTube'], y_pred[:, 2]))"
      ],
      "metadata": {
        "colab": {
          "base_uri": "https://localhost:8080/"
        },
        "id": "l87FLepIxiNK",
        "outputId": "5e71f8a1-90c7-4a90-d8e6-7d9b362dfa15"
      },
      "execution_count": 23,
      "outputs": [
        {
          "output_type": "stream",
          "name": "stdout",
          "text": [
            "Fitting 3 folds for each of 243 candidates, totalling 729 fits\n",
            "Best Parameters: {'estimator__colsample_bytree': 0.8, 'estimator__learning_rate': 0.2, 'estimator__max_depth': 3, 'estimator__n_estimators': 10, 'estimator__subsample': 0.6}\n",
            "Accuracy for 'Performs well on Spotify': 0.6692913385826772\n",
            "Accuracy for 'Performs well on TikTok': 0.6614173228346457\n",
            "Accuracy for 'Performs well on YouTube': 0.7007874015748031\n"
          ]
        }
      ]
    },
    {
      "cell_type": "code",
      "source": [
        "import pandas as pd\n",
        "\n",
        "data = {\n",
        "    'artists': ['Linkin Park'] * 8,\n",
        "    'album_name': [\n",
        "        'Iridescent', 'Hybrid Theory (Bonus Edition)', 'Hybrid Theory', 'Hybrid Theory (20th Anniversary Edition)',\n",
        "        'Hybrid Theory (20th Anniversary Edition)', 'Meteora', 'Hybrid Theory (20th Anniversary Edition)', 'Hybrid Theory (20th Anniversary Edition)'\n",
        "    ],\n",
        "    'track_name': [\n",
        "        'New Divide', 'High Voltage', 'Papercut', 'Crawling', 'Papercut', 'Lying from You', 'Points of Authority', 'One Step Closer'\n",
        "    ],\n",
        "    'popularity': [56, 55, 54, 53, 53, 53, 52, 52],\n",
        "    'duration_ms': [268613, 225106, 184866, 208960, 184866, 175373, 200240, 157333],\n",
        "    'explicit': [False, False, False, False, False, False, False, False],\n",
        "    'danceability': [0.493, 0.593, 0.524, 0.581, 0.524, 0.535, 0.569, 0.492],\n",
        "    'energy': [0.808, 0.967, 0.939, 0.699, 0.94, 0.951, 0.97, 0.969],\n",
        "    'key': [5, 7, 9, 4, 9, 3, 8, 9],\n",
        "    'loudness': [-3.365, -4.26, -3.994, -5.564, -3.994, -3.324, -3.886, -4.419],\n",
        "    'mode': [0, 0, 1, 1, 1, 0, 0, 1],\n",
        "    'speechiness': [0.0362, 0.182, 0.113, 0.0337, 0.111, 0.18, 0.196, 0.0492],\n",
        "    'acousticness': [0.000235, 0.105, 0.00022, 0.0455, 0.000217, 0.00777, 0.03, 0.00144],\n",
        "    'instrumentalness': [0, 0, 0, 0, 0, 0, 0, 0.00000136],\n",
        "    'liveness': [0.0983, 0.314, 0.623, 0.536, 0.623, 0.0669, 0.0993, 0.0789],\n",
        "    'valence': [0.38, 0.287, 0.661, 0.282, 0.664, 0.723, 0.435, 0.538],\n",
        "    'tempo': [117.971, 93.916, 150.184, 105.074, 150.184, 160.102, 95.056, 95.137],\n",
        "    'time_signature': [4] * 8,\n",
        "    'track_genre': [23] * 8,\n",
        "}\n",
        "\n",
        "df = pd.DataFrame(data)\n",
        "df['release_year'] = [2010, 2000, 2000, 2000, 2000, 2003, 2000, 2000]\n",
        "\n",
        "features = [\n",
        "    'explicit', 'danceability', 'energy', 'loudness', 'speechiness',\n",
        "    'acousticness', 'instrumentalness', 'tempo', 'time_signature', 'release_year'\n",
        "] + ['track_genre']\n",
        "\n",
        "X_new = df[features]\n",
        "y_new_pred = multi_target_rf.predict(X_new)\n",
        "\n",
        "print(\"Predictions for new data:\")\n",
        "print(\"Performs well on Spotify:\", y_new_pred[:, 0])\n",
        "print(\"Performs well on TikTok:\", y_new_pred[:, 1])\n",
        "print(\"Performs well on YouTube:\", y_new_pred[:, 2])"
      ],
      "metadata": {
        "colab": {
          "base_uri": "https://localhost:8080/"
        },
        "id": "P5Jp9A3kkQCj",
        "outputId": "3b0321ac-36f7-4919-a090-f3883013d6ed"
      },
      "execution_count": 16,
      "outputs": [
        {
          "output_type": "stream",
          "name": "stdout",
          "text": [
            "Predictions for new data:\n",
            "Performs well on Spotify: [1 1 1 1 1 1 1 1]\n",
            "Performs well on TikTok: [0 0 0 0 0 0 0 0]\n",
            "Performs well on YouTube: [0 0 0 0 0 0 0 0]\n"
          ]
        }
      ]
    }
  ]
}